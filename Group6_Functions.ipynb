{
  "nbformat": 4,
  "nbformat_minor": 0,
  "metadata": {
    "colab": {
      "provenance": [],
      "authorship_tag": "ABX9TyMenHmmk4g7eOQOj4Y4B6iX",
      "include_colab_link": true
    },
    "kernelspec": {
      "name": "python3",
      "display_name": "Python 3"
    },
    "language_info": {
      "name": "python"
    }
  },
  "cells": [
    {
      "cell_type": "markdown",
      "metadata": {
        "id": "view-in-github",
        "colab_type": "text"
      },
      "source": [
        "<a href=\"https://colab.research.google.com/github/GTFider/Group6_GoogleColabActivity/blob/main/Group6_Functions.ipynb\" target=\"_parent\"><img src=\"https://colab.research.google.com/assets/colab-badge.svg\" alt=\"Open In Colab\"/></a>"
      ]
    },
    {
      "cell_type": "markdown",
      "source": [
        "# **Functions**"
      ],
      "metadata": {
        "id": "4rBToq7uPlZU"
      }
    },
    {
      "cell_type": "code",
      "execution_count": 2,
      "metadata": {
        "id": "qZeVlE3bPTep"
      },
      "outputs": [],
      "source": [
        "#Function - Its a block of code which executes when we call it.\n",
        "def example():\n",
        "  print(\"Hi Everyone\")"
      ]
    },
    {
      "cell_type": "code",
      "source": [
        "example()"
      ],
      "metadata": {
        "colab": {
          "base_uri": "https://localhost:8080/"
        },
        "id": "gI1v78D_PsEa",
        "outputId": "faf7c3b7-9097-4ccd-ad50-caefc732e720"
      },
      "execution_count": 3,
      "outputs": [
        {
          "output_type": "stream",
          "name": "stdout",
          "text": [
            "Hi Everyone\n"
          ]
        }
      ]
    },
    {
      "cell_type": "code",
      "source": [
        "def dept(fname):\n",
        "  print(fname + \" helps to generate revenue\")\n",
        "\n",
        "dept(\"HR\")"
      ],
      "metadata": {
        "colab": {
          "base_uri": "https://localhost:8080/"
        },
        "id": "D_dT8bgLPtt_",
        "outputId": "93f10f8d-ccd1-43cf-d8a9-f37efd75bb1d"
      },
      "execution_count": 4,
      "outputs": [
        {
          "output_type": "stream",
          "name": "stdout",
          "text": [
            "HR helps to generate revenue\n"
          ]
        }
      ]
    },
    {
      "cell_type": "code",
      "source": [
        "def example_1(string):\n",
        "  return len(string)\n",
        "print(\"length of string is\",example_1(\"Python Programming\"))"
      ],
      "metadata": {
        "colab": {
          "base_uri": "https://localhost:8080/"
        },
        "id": "JBYxyO9TPu5g",
        "outputId": "0cbb5968-c8a2-45f7-83a7-ad2dabde14d3"
      },
      "execution_count": 5,
      "outputs": [
        {
          "output_type": "stream",
          "name": "stdout",
          "text": [
            "length of string is 18\n"
          ]
        }
      ]
    },
    {
      "cell_type": "code",
      "source": [
        "text = \"This is function topic in python\"\n",
        "def anytext(any):\n",
        "  '''\n",
        "  input:\n",
        "    anytext-str\n",
        "  output:\n",
        "    anytext-str\n",
        "  '''\n",
        "  output = text +any.upper()\n",
        "  return output"
      ],
      "metadata": {
        "id": "SEZJKMGEPxht"
      },
      "execution_count": 6,
      "outputs": []
    },
    {
      "cell_type": "code",
      "source": [
        "anytext('Hello Everyone')"
      ],
      "metadata": {
        "colab": {
          "base_uri": "https://localhost:8080/",
          "height": 36
        },
        "id": "UFeu8LhhPy-K",
        "outputId": "1aebaaed-d2f5-445b-a51e-2229d47d872e"
      },
      "execution_count": 7,
      "outputs": [
        {
          "output_type": "execute_result",
          "data": {
            "text/plain": [
              "'This is function topic in pythonHELLO EVERYONE'"
            ],
            "application/vnd.google.colaboratory.intrinsic+json": {
              "type": "string"
            }
          },
          "metadata": {},
          "execution_count": 7
        }
      ]
    },
    {
      "cell_type": "code",
      "source": [
        "def multiply(*numbers):\n",
        "  total = 1\n",
        "  for number in numbers:\n",
        "    total *= number\n",
        "  return total"
      ],
      "metadata": {
        "id": "xZTtH232PzGJ"
      },
      "execution_count": 8,
      "outputs": []
    },
    {
      "cell_type": "code",
      "source": [
        "multiply(2,3,4,1,3)"
      ],
      "metadata": {
        "colab": {
          "base_uri": "https://localhost:8080/"
        },
        "id": "Wm4ZyNpqP3gS",
        "outputId": "ece71521-713b-4b27-9006-b739744611fa"
      },
      "execution_count": 9,
      "outputs": [
        {
          "output_type": "execute_result",
          "data": {
            "text/plain": [
              "72"
            ]
          },
          "metadata": {},
          "execution_count": 9
        }
      ]
    },
    {
      "cell_type": "code",
      "source": [
        "def emp_1(** emp):\n",
        "  print(emp)"
      ],
      "metadata": {
        "id": "Iuhb_uK6P41T"
      },
      "execution_count": 10,
      "outputs": []
    },
    {
      "cell_type": "code",
      "source": [
        "emp_1(id=1,name=\"Steve\",age=26)"
      ],
      "metadata": {
        "colab": {
          "base_uri": "https://localhost:8080/"
        },
        "id": "gBE6jM1BP6Jq",
        "outputId": "05fa0535-fc07-44f0-c2a7-640b3c1f2b5f"
      },
      "execution_count": 11,
      "outputs": [
        {
          "output_type": "stream",
          "name": "stdout",
          "text": [
            "{'id': 1, 'name': 'Steve', 'age': 26}\n"
          ]
        }
      ]
    },
    {
      "cell_type": "code",
      "source": [
        "#task - define a function for employees with string \"emp works with\", id, name and dept\n",
        "def Emp(** E):\n",
        "  print(\"Employee works with \",E)"
      ],
      "metadata": {
        "id": "tImYDhTXP7ch"
      },
      "execution_count": 12,
      "outputs": []
    },
    {
      "cell_type": "code",
      "source": [
        "Emp(id=30,name=\"Mark\",dept=\"Engineering\")"
      ],
      "metadata": {
        "colab": {
          "base_uri": "https://localhost:8080/"
        },
        "id": "FeUR8erEP8-a",
        "outputId": "a8dcb98f-6ef8-4892-82e7-dbc951eaba84"
      },
      "execution_count": 13,
      "outputs": [
        {
          "output_type": "stream",
          "name": "stdout",
          "text": [
            "Employee works with  {'id': 30, 'name': 'Mark', 'dept': 'Engineering'}\n"
          ]
        }
      ]
    },
    {
      "cell_type": "code",
      "source": [
        "def employee_details(emp_id, name, dept):\n",
        "    return print(name,\"(\",emp_id,\")\",\"works in\",dept,\"department.\")\n",
        "employee_details(30,\"Mark\",\"Sales\")\n"
      ],
      "metadata": {
        "colab": {
          "base_uri": "https://localhost:8080/"
        },
        "id": "qIhtUJ_TP-FP",
        "outputId": "5c3e857c-3488-4663-8f58-bc72efb8610e"
      },
      "execution_count": 15,
      "outputs": [
        {
          "output_type": "stream",
          "name": "stdout",
          "text": [
            "Mark ( 30 ) works in Sales department.\n"
          ]
        }
      ]
    },
    {
      "cell_type": "code",
      "source": [],
      "metadata": {
        "id": "7_A4WDWkP_at"
      },
      "execution_count": null,
      "outputs": []
    }
  ]
}