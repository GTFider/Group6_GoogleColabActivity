{
  "nbformat": 4,
  "nbformat_minor": 0,
  "metadata": {
    "colab": {
      "provenance": [],
      "include_colab_link": true
    },
    "kernelspec": {
      "name": "python3",
      "display_name": "Python 3"
    },
    "language_info": {
      "name": "python"
    }
  },
  "cells": [
    {
      "cell_type": "markdown",
      "metadata": {
        "id": "view-in-github",
        "colab_type": "text"
      },
      "source": [
        "<a href=\"https://colab.research.google.com/github/jujuvml/Group6_GoogleColabActivity/blob/main/Group6_FlowControl.ipynb\" target=\"_parent\"><img src=\"https://colab.research.google.com/assets/colab-badge.svg\" alt=\"Open In Colab\"/></a>"
      ]
    },
    {
      "cell_type": "markdown",
      "source": [
        "# **Conditional Statement**"
      ],
      "metadata": {
        "id": "G7o22ckCgf7R"
      }
    },
    {
      "cell_type": "markdown",
      "source": [
        "Conditional Statements:\n",
        "* If Statement\n",
        "* If else\n",
        "* Nested If"
      ],
      "metadata": {
        "id": "zo3BINzkh4kh"
      }
    },
    {
      "cell_type": "code",
      "source": [
        "# If Statement\n",
        "# if condition:\n",
        "  #block of code\n",
        "\n",
        "emp = 101\n",
        "if emp > 100:\n",
        "  print(\"emp belongs to sales dept\")"
      ],
      "metadata": {
        "colab": {
          "base_uri": "https://localhost:8080/"
        },
        "id": "evIO0iHvgnQi",
        "outputId": "ff486e47-d767-4882-e6b4-7e70d7a63bfc"
      },
      "execution_count": 1,
      "outputs": [
        {
          "output_type": "stream",
          "name": "stdout",
          "text": [
            "emp belongs to sales dept\n"
          ]
        }
      ]
    },
    {
      "cell_type": "code",
      "source": [
        "employee =30000\n",
        "if employee < 40000:\n",
        "  print(\"employee belongs to grade B\")"
      ],
      "metadata": {
        "colab": {
          "base_uri": "https://localhost:8080/"
        },
        "id": "vBN8SPYOjTlZ",
        "outputId": "f756a9ff-533b-4655-8647-571fcd637863"
      },
      "execution_count": 2,
      "outputs": [
        {
          "output_type": "stream",
          "name": "stdout",
          "text": [
            "employee belongs to grade B\n"
          ]
        }
      ]
    },
    {
      "cell_type": "code",
      "source": [
        "#Emp belongs to id 101 takes leave on Monday\n",
        "Emp = 101\n",
        "if Emp == 101:\n",
        "  print(\"employee belongs to id 101 takes leave on Monday\")"
      ],
      "metadata": {
        "colab": {
          "base_uri": "https://localhost:8080/"
        },
        "id": "yROcwkQ0jv0Y",
        "outputId": "72403e0a-f8f2-4124-9a9d-3f2cdb036f7b"
      },
      "execution_count": 3,
      "outputs": [
        {
          "output_type": "stream",
          "name": "stdout",
          "text": [
            "employee belongs to id 101 takes leave on Monday\n"
          ]
        }
      ]
    },
    {
      "cell_type": "code",
      "source": [
        "Emp = 101\n",
        "if Emp <101:\n",
        "  print(\"employee belongs to id 101 takes leave on Monday\")"
      ],
      "metadata": {
        "id": "L-7dT2gklHVT"
      },
      "execution_count": 4,
      "outputs": []
    },
    {
      "cell_type": "code",
      "source": [
        "# if else statement\n",
        "# if <expression>:\n",
        "  #<condition>\n",
        "#else:\n",
        "  #<statement>\n",
        "\n",
        "branch = \"sales\"\n",
        "if branch == \"HR\":\n",
        "  print(\"Employee is from different dept\")\n",
        "else:\n",
        "  print(\"Employee belongs to same dept\")"
      ],
      "metadata": {
        "colab": {
          "base_uri": "https://localhost:8080/"
        },
        "id": "U5PCdjH2p4p5",
        "outputId": "79fb3a56-4794-432d-e376-8b476d6691a6"
      },
      "execution_count": 5,
      "outputs": [
        {
          "output_type": "stream",
          "name": "stdout",
          "text": [
            "Employee belongs to same dept\n"
          ]
        }
      ]
    },
    {
      "cell_type": "code",
      "source": [
        "# age = 30 then consider as senior or consider as a fresher\n",
        "age = 30\n",
        "\n",
        "if age == 30:\n",
        "  print(\"Senior\")\n",
        "else:\n",
        "  print(\"Fresher\")"
      ],
      "metadata": {
        "colab": {
          "base_uri": "https://localhost:8080/"
        },
        "id": "lDImLj8brBHc",
        "outputId": "9d097083-6fa4-4149-b80e-f1692c026aeb"
      },
      "execution_count": 6,
      "outputs": [
        {
          "output_type": "stream",
          "name": "stdout",
          "text": [
            "Senior\n"
          ]
        }
      ]
    },
    {
      "cell_type": "code",
      "source": [
        "# if-elif\n",
        "color = \"White\"\n",
        "if color == \"Red\":\n",
        "  print(\"color is Red\")\n",
        "elif color == \"Blue\":\n",
        "  print(\"color is Blue\")\n",
        "elif color == \"Black\":\n",
        "  print(\"color is Black\")\n",
        "else:\n",
        "  print(\"color is not present\")"
      ],
      "metadata": {
        "colab": {
          "base_uri": "https://localhost:8080/"
        },
        "id": "HeeSCbQ_sLb4",
        "outputId": "84b1cc9c-e774-448c-b9c1-dbb1f6a65980"
      },
      "execution_count": 7,
      "outputs": [
        {
          "output_type": "stream",
          "name": "stdout",
          "text": [
            "color is not present\n"
          ]
        }
      ]
    },
    {
      "cell_type": "code",
      "source": [
        "# for loop\n",
        "\n",
        "names = [\"John\",\"Maria\",\"Daniel\"]\n",
        "for name in names:\n",
        "  print(name)\n",
        "  if name == \"Maria\":\n",
        "    break"
      ],
      "metadata": {
        "colab": {
          "base_uri": "https://localhost:8080/"
        },
        "id": "HfNtQNpGu4nS",
        "outputId": "1ae8d7fd-cb80-43ff-8abd-cb2e3d3e46f7"
      },
      "execution_count": 8,
      "outputs": [
        {
          "output_type": "stream",
          "name": "stdout",
          "text": [
            "John\n",
            "Maria\n"
          ]
        }
      ]
    },
    {
      "cell_type": "code",
      "source": [
        "names = [\"John\",\"Maria\",\"Daniel\"]\n",
        "for name in names:\n",
        "  if name == \"Maria\":\n",
        "    continue\n",
        "  print(names)"
      ],
      "metadata": {
        "colab": {
          "base_uri": "https://localhost:8080/"
        },
        "id": "1JE9S5Do1DUk",
        "outputId": "c7ca4ccc-ef13-401b-f093-ea6c9d1c595f"
      },
      "execution_count": 9,
      "outputs": [
        {
          "output_type": "stream",
          "name": "stdout",
          "text": [
            "['John', 'Maria', 'Daniel']\n",
            "['John', 'Maria', 'Daniel']\n"
          ]
        }
      ]
    },
    {
      "cell_type": "code",
      "source": [],
      "metadata": {
        "id": "2ssn8rLZ1eO_"
      },
      "execution_count": 9,
      "outputs": []
    }
  ]
}