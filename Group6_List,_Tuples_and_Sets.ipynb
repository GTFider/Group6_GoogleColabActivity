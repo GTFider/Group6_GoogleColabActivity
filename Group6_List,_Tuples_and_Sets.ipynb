{
  "nbformat": 4,
  "nbformat_minor": 0,
  "metadata": {
    "colab": {
      "provenance": [],
      "authorship_tag": "ABX9TyOiwF9CdkLf2eqIt89hU67u",
      "include_colab_link": true
    },
    "kernelspec": {
      "name": "python3",
      "display_name": "Python 3"
    },
    "language_info": {
      "name": "python"
    }
  },
  "cells": [
    {
      "cell_type": "markdown",
      "metadata": {
        "id": "view-in-github",
        "colab_type": "text"
      },
      "source": [
        "<a href=\"https://colab.research.google.com/github/jujuvml/Group6_GoogleColabActivity/blob/main/Group6_List%2C_Tuples_and_Sets.ipynb\" target=\"_parent\"><img src=\"https://colab.research.google.com/assets/colab-badge.svg\" alt=\"Open In Colab\"/></a>"
      ]
    },
    {
      "cell_type": "markdown",
      "source": [
        "# Lists, Tuples, Sets and Dictionaries"
      ],
      "metadata": {
        "id": "9GOPZGz4akMF"
      }
    },
    {
      "cell_type": "markdown",
      "source": [
        "## 1) List"
      ],
      "metadata": {
        "id": "ouFBLisdanO-"
      }
    },
    {
      "cell_type": "code",
      "source": [
        "#List - ordered sequence of elements, always uses [] to represent the list. Each item is seperated by ,.\n",
        "\n",
        "food = [\"pizza\",\"burger\",\"rice\", \"noodles\"]\n",
        "print(food)"
      ],
      "metadata": {
        "colab": {
          "base_uri": "https://localhost:8080/"
        },
        "id": "JJQuEYmbar_5",
        "outputId": "43948425-5368-4227-876e-291c937764c6"
      },
      "execution_count": 3,
      "outputs": [
        {
          "output_type": "stream",
          "name": "stdout",
          "text": [
            "['pizza', 'burger', 'rice', 'noodles']\n"
          ]
        }
      ]
    },
    {
      "cell_type": "code",
      "source": [
        "print(food[0])"
      ],
      "metadata": {
        "colab": {
          "base_uri": "https://localhost:8080/"
        },
        "id": "0Qkcms6Na9Cs",
        "outputId": "190fb846-86f2-479e-8fe3-88383ecf1a0f"
      },
      "execution_count": 4,
      "outputs": [
        {
          "output_type": "stream",
          "name": "stdout",
          "text": [
            "pizza\n"
          ]
        }
      ]
    },
    {
      "cell_type": "code",
      "source": [
        "# to add element in list\n",
        "food.append(\"cake\")\n",
        "print(food)"
      ],
      "metadata": {
        "colab": {
          "base_uri": "https://localhost:8080/"
        },
        "id": "oZKooqm6bBIF",
        "outputId": "775f1dca-945c-4664-d5e5-2c26a2b5a406"
      },
      "execution_count": 5,
      "outputs": [
        {
          "output_type": "stream",
          "name": "stdout",
          "text": [
            "['pizza', 'burger', 'rice', 'noodles', 'cake']\n"
          ]
        }
      ]
    },
    {
      "cell_type": "code",
      "source": [
        "food.append(\"sandwhich\")\n",
        "print(food)"
      ],
      "metadata": {
        "colab": {
          "base_uri": "https://localhost:8080/"
        },
        "id": "c2bHQvjRbFH8",
        "outputId": "c1aa3e83-b008-4a75-8747-60f9b42b7f4c"
      },
      "execution_count": 6,
      "outputs": [
        {
          "output_type": "stream",
          "name": "stdout",
          "text": [
            "['pizza', 'burger', 'rice', 'noodles', 'cake', 'sandwhich']\n"
          ]
        }
      ]
    },
    {
      "cell_type": "code",
      "source": [
        "food.extend([\"sandwhich\",\"pasta\"])\n",
        "print(food)"
      ],
      "metadata": {
        "colab": {
          "base_uri": "https://localhost:8080/"
        },
        "id": "tEwd69AQbHwV",
        "outputId": "41d9f739-927c-42b7-ae7a-3001a69935be"
      },
      "execution_count": 7,
      "outputs": [
        {
          "output_type": "stream",
          "name": "stdout",
          "text": [
            "['pizza', 'burger', 'rice', 'noodles', 'cake', 'sandwhich', 'sandwhich', 'pasta']\n"
          ]
        }
      ]
    },
    {
      "cell_type": "code",
      "source": [
        "food.extend([\"sandwhich\",\"pasta\"])\n",
        "food"
      ],
      "metadata": {
        "colab": {
          "base_uri": "https://localhost:8080/"
        },
        "id": "3GEHjY4bbNyk",
        "outputId": "34c31a44-6842-4597-b3e5-87d9f1bbd823"
      },
      "execution_count": 8,
      "outputs": [
        {
          "output_type": "execute_result",
          "data": {
            "text/plain": [
              "['pizza',\n",
              " 'burger',\n",
              " 'rice',\n",
              " 'noodles',\n",
              " 'cake',\n",
              " 'sandwhich',\n",
              " 'sandwhich',\n",
              " 'pasta',\n",
              " 'sandwhich',\n",
              " 'pasta']"
            ]
          },
          "metadata": {},
          "execution_count": 8
        }
      ]
    },
    {
      "cell_type": "code",
      "source": [
        "print(food*2)"
      ],
      "metadata": {
        "colab": {
          "base_uri": "https://localhost:8080/"
        },
        "id": "i3SxO6oObSYt",
        "outputId": "463cefac-9b8f-494a-e04b-f39718e6a848"
      },
      "execution_count": 9,
      "outputs": [
        {
          "output_type": "stream",
          "name": "stdout",
          "text": [
            "['pizza', 'burger', 'rice', 'noodles', 'cake', 'sandwhich', 'sandwhich', 'pasta', 'sandwhich', 'pasta', 'pizza', 'burger', 'rice', 'noodles', 'cake', 'sandwhich', 'sandwhich', 'pasta', 'sandwhich', 'pasta']\n"
          ]
        }
      ]
    },
    {
      "cell_type": "code",
      "source": [
        "food + [\"coffee\",\"tea\"]\n",
        "food"
      ],
      "metadata": {
        "colab": {
          "base_uri": "https://localhost:8080/"
        },
        "id": "Ca4Jui6vbV6W",
        "outputId": "85a8e441-4bbb-4e9c-a346-ef76adf46283"
      },
      "execution_count": 10,
      "outputs": [
        {
          "output_type": "execute_result",
          "data": {
            "text/plain": [
              "['pizza',\n",
              " 'burger',\n",
              " 'rice',\n",
              " 'noodles',\n",
              " 'cake',\n",
              " 'sandwhich',\n",
              " 'sandwhich',\n",
              " 'pasta',\n",
              " 'sandwhich',\n",
              " 'pasta']"
            ]
          },
          "metadata": {},
          "execution_count": 10
        }
      ]
    },
    {
      "cell_type": "code",
      "source": [
        "food = food + [\"coffee\",\"tea\"]\n",
        "food"
      ],
      "metadata": {
        "colab": {
          "base_uri": "https://localhost:8080/"
        },
        "id": "_SqrhhWYbYwl",
        "outputId": "e051bcee-8403-4693-ea48-f2487ee04bf3"
      },
      "execution_count": 11,
      "outputs": [
        {
          "output_type": "execute_result",
          "data": {
            "text/plain": [
              "['pizza',\n",
              " 'burger',\n",
              " 'rice',\n",
              " 'noodles',\n",
              " 'cake',\n",
              " 'sandwhich',\n",
              " 'sandwhich',\n",
              " 'pasta',\n",
              " 'sandwhich',\n",
              " 'pasta',\n",
              " 'coffee',\n",
              " 'tea']"
            ]
          },
          "metadata": {},
          "execution_count": 11
        }
      ]
    },
    {
      "cell_type": "code",
      "source": [
        "food[1:3]"
      ],
      "metadata": {
        "colab": {
          "base_uri": "https://localhost:8080/"
        },
        "id": "wiaJTlYrbcO1",
        "outputId": "28609613-c883-47ec-ddfb-de0c5f033e35"
      },
      "execution_count": 12,
      "outputs": [
        {
          "output_type": "execute_result",
          "data": {
            "text/plain": [
              "['burger', 'rice']"
            ]
          },
          "metadata": {},
          "execution_count": 12
        }
      ]
    },
    {
      "cell_type": "code",
      "source": [
        "food[3]= 'Sweet'\n",
        "food"
      ],
      "metadata": {
        "colab": {
          "base_uri": "https://localhost:8080/"
        },
        "id": "ohKwEKlUbdhX",
        "outputId": "5a3fbdec-b310-4d86-c33d-5d45d1e46feb"
      },
      "execution_count": 13,
      "outputs": [
        {
          "output_type": "execute_result",
          "data": {
            "text/plain": [
              "['pizza',\n",
              " 'burger',\n",
              " 'rice',\n",
              " 'Sweet',\n",
              " 'cake',\n",
              " 'sandwhich',\n",
              " 'sandwhich',\n",
              " 'pasta',\n",
              " 'sandwhich',\n",
              " 'pasta',\n",
              " 'coffee',\n",
              " 'tea']"
            ]
          },
          "metadata": {},
          "execution_count": 13
        }
      ]
    },
    {
      "cell_type": "code",
      "source": [
        "food.index('cake')"
      ],
      "metadata": {
        "colab": {
          "base_uri": "https://localhost:8080/"
        },
        "id": "Y-oktUb8bhfU",
        "outputId": "e9ffd201-2f47-49da-8fc6-073d06d7bee8"
      },
      "execution_count": 14,
      "outputs": [
        {
          "output_type": "execute_result",
          "data": {
            "text/plain": [
              "4"
            ]
          },
          "metadata": {},
          "execution_count": 14
        }
      ]
    },
    {
      "cell_type": "code",
      "source": [
        "food.insert(3,'Paratha')\n",
        "food"
      ],
      "metadata": {
        "colab": {
          "base_uri": "https://localhost:8080/"
        },
        "id": "9rp7Y_XVbmtd",
        "outputId": "27e62e48-106b-4bd1-e7a0-a6acb8eaddd0"
      },
      "execution_count": 15,
      "outputs": [
        {
          "output_type": "execute_result",
          "data": {
            "text/plain": [
              "['pizza',\n",
              " 'burger',\n",
              " 'rice',\n",
              " 'Paratha',\n",
              " 'Sweet',\n",
              " 'cake',\n",
              " 'sandwhich',\n",
              " 'sandwhich',\n",
              " 'pasta',\n",
              " 'sandwhich',\n",
              " 'pasta',\n",
              " 'coffee',\n",
              " 'tea']"
            ]
          },
          "metadata": {},
          "execution_count": 15
        }
      ]
    },
    {
      "cell_type": "code",
      "source": [
        "drinks = food.remove('tea')\n",
        "print(drinks)"
      ],
      "metadata": {
        "colab": {
          "base_uri": "https://localhost:8080/"
        },
        "id": "j6pQzBWCbq1l",
        "outputId": "2c5b957e-b71b-4a1f-d91f-d5405d3131e0"
      },
      "execution_count": 16,
      "outputs": [
        {
          "output_type": "stream",
          "name": "stdout",
          "text": [
            "None\n"
          ]
        }
      ]
    },
    {
      "cell_type": "code",
      "source": [
        "onlyfood = food.remove('tea')\n",
        "print(onlyfood)"
      ],
      "metadata": {
        "colab": {
          "base_uri": "https://localhost:8080/",
          "height": 192
        },
        "id": "gCfcWyR2bsH9",
        "outputId": "53f6f1cf-df98-46c9-ea32-4c16fa3e03a4"
      },
      "execution_count": 17,
      "outputs": [
        {
          "output_type": "error",
          "ename": "ValueError",
          "evalue": "ignored",
          "traceback": [
            "\u001b[0;31m---------------------------------------------------------------------------\u001b[0m",
            "\u001b[0;31mValueError\u001b[0m                                Traceback (most recent call last)",
            "\u001b[0;32m<ipython-input-17-4615697f7867>\u001b[0m in \u001b[0;36m<cell line: 1>\u001b[0;34m()\u001b[0m\n\u001b[0;32m----> 1\u001b[0;31m \u001b[0monlyfood\u001b[0m \u001b[0;34m=\u001b[0m \u001b[0mfood\u001b[0m\u001b[0;34m.\u001b[0m\u001b[0mremove\u001b[0m\u001b[0;34m(\u001b[0m\u001b[0;34m'tea'\u001b[0m\u001b[0;34m)\u001b[0m\u001b[0;34m\u001b[0m\u001b[0;34m\u001b[0m\u001b[0m\n\u001b[0m\u001b[1;32m      2\u001b[0m \u001b[0mprint\u001b[0m\u001b[0;34m(\u001b[0m\u001b[0monlyfood\u001b[0m\u001b[0;34m)\u001b[0m\u001b[0;34m\u001b[0m\u001b[0;34m\u001b[0m\u001b[0m\n",
            "\u001b[0;31mValueError\u001b[0m: list.remove(x): x not in list"
          ]
        }
      ]
    },
    {
      "cell_type": "code",
      "source": [
        "xyz = food.remove(\"coffee\")\n",
        "print(xyz)"
      ],
      "metadata": {
        "colab": {
          "base_uri": "https://localhost:8080/"
        },
        "id": "mg_ZPCHFbvI1",
        "outputId": "246af102-dbfd-49d2-bf39-de739a1e0cea"
      },
      "execution_count": 18,
      "outputs": [
        {
          "output_type": "stream",
          "name": "stdout",
          "text": [
            "None\n"
          ]
        }
      ]
    },
    {
      "cell_type": "code",
      "source": [
        "print(food)"
      ],
      "metadata": {
        "colab": {
          "base_uri": "https://localhost:8080/"
        },
        "id": "D9CnWKVrbzA2",
        "outputId": "ab787dc5-31f4-4c4a-9c9c-ea5964a8ece0"
      },
      "execution_count": 19,
      "outputs": [
        {
          "output_type": "stream",
          "name": "stdout",
          "text": [
            "['pizza', 'burger', 'rice', 'Paratha', 'Sweet', 'cake', 'sandwhich', 'sandwhich', 'pasta', 'sandwhich', 'pasta']\n"
          ]
        }
      ]
    },
    {
      "cell_type": "code",
      "source": [
        "menu = ['pizza', 'burger', 'rice', 'noodles', 'icecream', 'juice']\n",
        "print(menu)"
      ],
      "metadata": {
        "colab": {
          "base_uri": "https://localhost:8080/"
        },
        "id": "BoKl0kKnb1t-",
        "outputId": "c1c28e1a-e948-4cf7-97f9-8b0e3e4da406"
      },
      "execution_count": 20,
      "outputs": [
        {
          "output_type": "stream",
          "name": "stdout",
          "text": [
            "['pizza', 'burger', 'rice', 'noodles', 'icecream', 'juice']\n"
          ]
        }
      ]
    },
    {
      "cell_type": "code",
      "source": [
        "print('initial menu', menu)\n",
        "menu.reverse()\n",
        "print('reversed menu', menu)\n",
        "print(type(reversed(menu)))"
      ],
      "metadata": {
        "colab": {
          "base_uri": "https://localhost:8080/"
        },
        "id": "pNDW6L5Rb7oF",
        "outputId": "5e509ab3-d1eb-425b-c450-22f1ff0dd5a6"
      },
      "execution_count": 21,
      "outputs": [
        {
          "output_type": "stream",
          "name": "stdout",
          "text": [
            "initial menu ['pizza', 'burger', 'rice', 'noodles', 'icecream', 'juice']\n",
            "reversed menu ['juice', 'icecream', 'noodles', 'rice', 'burger', 'pizza']\n",
            "<class 'list_reverseiterator'>\n"
          ]
        }
      ]
    },
    {
      "cell_type": "code",
      "source": [
        "print('initial menu', menu)\n",
        "menu.sort()\n",
        "print('sorted menu',menu)"
      ],
      "metadata": {
        "colab": {
          "base_uri": "https://localhost:8080/"
        },
        "id": "jGkowNfvb-zt",
        "outputId": "7fcd7990-b64e-43df-cab9-d26662e47c8e"
      },
      "execution_count": 22,
      "outputs": [
        {
          "output_type": "stream",
          "name": "stdout",
          "text": [
            "initial menu ['juice', 'icecream', 'noodles', 'rice', 'burger', 'pizza']\n",
            "sorted menu ['burger', 'icecream', 'juice', 'noodles', 'pizza', 'rice']\n"
          ]
        }
      ]
    },
    {
      "cell_type": "code",
      "source": [
        "del menu[-2]\n",
        "menu"
      ],
      "metadata": {
        "colab": {
          "base_uri": "https://localhost:8080/"
        },
        "id": "9gTaZRUwcBdu",
        "outputId": "0bb55648-8aed-418e-bcd6-ea58c13decfb"
      },
      "execution_count": 23,
      "outputs": [
        {
          "output_type": "execute_result",
          "data": {
            "text/plain": [
              "['burger', 'icecream', 'juice', 'noodles', 'rice']"
            ]
          },
          "metadata": {},
          "execution_count": 23
        }
      ]
    },
    {
      "cell_type": "code",
      "source": [
        "print(menu[2:4])"
      ],
      "metadata": {
        "colab": {
          "base_uri": "https://localhost:8080/"
        },
        "id": "oF3Tw3vgchwu",
        "outputId": "a15add52-2f42-40b4-9c40-4ec209ca3410"
      },
      "execution_count": 24,
      "outputs": [
        {
          "output_type": "stream",
          "name": "stdout",
          "text": [
            "['juice', 'noodles']\n"
          ]
        }
      ]
    },
    {
      "cell_type": "code",
      "source": [
        "menu.remove(['juice','noodles'])\n",
        "print(menu)"
      ],
      "metadata": {
        "colab": {
          "base_uri": "https://localhost:8080/",
          "height": 192
        },
        "id": "gi2cdIKDcj3V",
        "outputId": "98d1a385-2d6a-413b-b18e-029c297358a4"
      },
      "execution_count": 25,
      "outputs": [
        {
          "output_type": "error",
          "ename": "ValueError",
          "evalue": "ignored",
          "traceback": [
            "\u001b[0;31m---------------------------------------------------------------------------\u001b[0m",
            "\u001b[0;31mValueError\u001b[0m                                Traceback (most recent call last)",
            "\u001b[0;32m<ipython-input-25-18e6613e25de>\u001b[0m in \u001b[0;36m<cell line: 1>\u001b[0;34m()\u001b[0m\n\u001b[0;32m----> 1\u001b[0;31m \u001b[0mmenu\u001b[0m\u001b[0;34m.\u001b[0m\u001b[0mremove\u001b[0m\u001b[0;34m(\u001b[0m\u001b[0;34m[\u001b[0m\u001b[0;34m'juice'\u001b[0m\u001b[0;34m,\u001b[0m\u001b[0;34m'noodles'\u001b[0m\u001b[0;34m]\u001b[0m\u001b[0;34m)\u001b[0m\u001b[0;34m\u001b[0m\u001b[0;34m\u001b[0m\u001b[0m\n\u001b[0m\u001b[1;32m      2\u001b[0m \u001b[0mprint\u001b[0m\u001b[0;34m(\u001b[0m\u001b[0mmenu\u001b[0m\u001b[0;34m)\u001b[0m\u001b[0;34m\u001b[0m\u001b[0;34m\u001b[0m\u001b[0m\n",
            "\u001b[0;31mValueError\u001b[0m: list.remove(x): x not in list"
          ]
        }
      ]
    },
    {
      "cell_type": "code",
      "source": [
        "print(menu)"
      ],
      "metadata": {
        "colab": {
          "base_uri": "https://localhost:8080/"
        },
        "id": "HFCzucBVcmr2",
        "outputId": "6f159eda-576f-4aa5-dff5-96949dab93d8"
      },
      "execution_count": 26,
      "outputs": [
        {
          "output_type": "stream",
          "name": "stdout",
          "text": [
            "['burger', 'icecream', 'juice', 'noodles', 'rice']\n"
          ]
        }
      ]
    },
    {
      "cell_type": "code",
      "source": [
        "menu.remove('juice')\n",
        "print(menu)"
      ],
      "metadata": {
        "colab": {
          "base_uri": "https://localhost:8080/"
        },
        "id": "g-WmeI5rcqi9",
        "outputId": "9691783b-d005-4af2-8bbb-02d655a98c79"
      },
      "execution_count": 27,
      "outputs": [
        {
          "output_type": "stream",
          "name": "stdout",
          "text": [
            "['burger', 'icecream', 'noodles', 'rice']\n"
          ]
        }
      ]
    },
    {
      "cell_type": "code",
      "source": [
        "print(menu)"
      ],
      "metadata": {
        "colab": {
          "base_uri": "https://localhost:8080/"
        },
        "id": "FxqL1ee-cs5t",
        "outputId": "7d59a104-686f-4752-e286-5a0be20a4e5f"
      },
      "execution_count": 28,
      "outputs": [
        {
          "output_type": "stream",
          "name": "stdout",
          "text": [
            "['burger', 'icecream', 'noodles', 'rice']\n"
          ]
        }
      ]
    },
    {
      "cell_type": "code",
      "source": [
        "menu.remove('icecream','noodles')\n",
        "print(menu)"
      ],
      "metadata": {
        "colab": {
          "base_uri": "https://localhost:8080/",
          "height": 192
        },
        "id": "snzYJW53cuSd",
        "outputId": "1467067c-1d98-4a65-e72d-8349dfcf862d"
      },
      "execution_count": 29,
      "outputs": [
        {
          "output_type": "error",
          "ename": "TypeError",
          "evalue": "ignored",
          "traceback": [
            "\u001b[0;31m---------------------------------------------------------------------------\u001b[0m",
            "\u001b[0;31mTypeError\u001b[0m                                 Traceback (most recent call last)",
            "\u001b[0;32m<ipython-input-29-5c253b284250>\u001b[0m in \u001b[0;36m<cell line: 1>\u001b[0;34m()\u001b[0m\n\u001b[0;32m----> 1\u001b[0;31m \u001b[0mmenu\u001b[0m\u001b[0;34m.\u001b[0m\u001b[0mremove\u001b[0m\u001b[0;34m(\u001b[0m\u001b[0;34m'icecream'\u001b[0m\u001b[0;34m,\u001b[0m\u001b[0;34m'noodles'\u001b[0m\u001b[0;34m)\u001b[0m\u001b[0;34m\u001b[0m\u001b[0;34m\u001b[0m\u001b[0m\n\u001b[0m\u001b[1;32m      2\u001b[0m \u001b[0mprint\u001b[0m\u001b[0;34m(\u001b[0m\u001b[0mmenu\u001b[0m\u001b[0;34m)\u001b[0m\u001b[0;34m\u001b[0m\u001b[0;34m\u001b[0m\u001b[0m\n",
            "\u001b[0;31mTypeError\u001b[0m: list.remove() takes exactly one argument (2 given)"
          ]
        }
      ]
    },
    {
      "cell_type": "code",
      "source": [
        "menu_2 = ['pizza','burger', 'rice', 'noodles','icecream']\n",
        "print(menu_2)"
      ],
      "metadata": {
        "colab": {
          "base_uri": "https://localhost:8080/"
        },
        "id": "RyayUldkczBN",
        "outputId": "6ac5cbae-c540-43aa-de7d-2ff2486430e6"
      },
      "execution_count": 30,
      "outputs": [
        {
          "output_type": "stream",
          "name": "stdout",
          "text": [
            "['pizza', 'burger', 'rice', 'noodles', 'icecream']\n"
          ]
        }
      ]
    },
    {
      "cell_type": "code",
      "source": [
        "menu_2.pop()"
      ],
      "metadata": {
        "colab": {
          "base_uri": "https://localhost:8080/",
          "height": 36
        },
        "id": "fBGHBw4jc0RW",
        "outputId": "39986efb-4883-4786-80d6-a210eaf46a47"
      },
      "execution_count": 31,
      "outputs": [
        {
          "output_type": "execute_result",
          "data": {
            "text/plain": [
              "'icecream'"
            ],
            "application/vnd.google.colaboratory.intrinsic+json": {
              "type": "string"
            }
          },
          "metadata": {},
          "execution_count": 31
        }
      ]
    },
    {
      "cell_type": "code",
      "source": [
        "menu_2.clear()\n",
        "print(menu_2)"
      ],
      "metadata": {
        "colab": {
          "base_uri": "https://localhost:8080/"
        },
        "id": "vjBhiHpIc2Sv",
        "outputId": "429d3e1e-00f8-49b4-c8a1-4b58d964cefe"
      },
      "execution_count": 32,
      "outputs": [
        {
          "output_type": "stream",
          "name": "stdout",
          "text": [
            "[]\n"
          ]
        }
      ]
    },
    {
      "cell_type": "markdown",
      "source": [
        "## 2) Tuples"
      ],
      "metadata": {
        "id": "snPVJZxMc8t-"
      }
    },
    {
      "cell_type": "code",
      "source": [
        "# Tuples - same as list, both contains sequence of items, mixed data types, and it contains individual elements also it is\n",
        "# immutable, it represents by ().\n",
        "\n",
        "empty = ()\n",
        "print(\"empty tuple\",empty)"
      ],
      "metadata": {
        "colab": {
          "base_uri": "https://localhost:8080/"
        },
        "id": "1hx-wR_hc-FG",
        "outputId": "782b45b9-de94-4ab0-c6d9-1b2838159674"
      },
      "execution_count": 33,
      "outputs": [
        {
          "output_type": "stream",
          "name": "stdout",
          "text": [
            "empty tuple ()\n"
          ]
        }
      ]
    },
    {
      "cell_type": "code",
      "source": [
        "# to create int tuple\n",
        "int = (2,1,3,4,5)\n",
        "print(int)"
      ],
      "metadata": {
        "colab": {
          "base_uri": "https://localhost:8080/"
        },
        "id": "bOO56To4dBOf",
        "outputId": "deca9c69-0b11-4744-8fe3-bb249615311d"
      },
      "execution_count": 34,
      "outputs": [
        {
          "output_type": "stream",
          "name": "stdout",
          "text": [
            "(2, 1, 3, 4, 5)\n"
          ]
        }
      ]
    },
    {
      "cell_type": "code",
      "source": [
        "#mix tuple\n",
        "mix = (4,\"Python\",4.2)\n",
        "print(mix)"
      ],
      "metadata": {
        "colab": {
          "base_uri": "https://localhost:8080/"
        },
        "id": "c2jo8sFudTNH",
        "outputId": "509e04fc-1c87-4c3b-8a1e-f1caf9704f33"
      },
      "execution_count": 35,
      "outputs": [
        {
          "output_type": "stream",
          "name": "stdout",
          "text": [
            "(4, 'Python', 4.2)\n"
          ]
        }
      ]
    },
    {
      "cell_type": "code",
      "source": [
        "# nested tuple\n",
        "nested = ('python', [\"int\",\"data\",\"float\"], 100)\n",
        "print(nested)"
      ],
      "metadata": {
        "colab": {
          "base_uri": "https://localhost:8080/"
        },
        "id": "NFH4OrlMdVH_",
        "outputId": "bd6f5fc3-b265-4b4c-bdb3-61db7955bb02"
      },
      "execution_count": 36,
      "outputs": [
        {
          "output_type": "stream",
          "name": "stdout",
          "text": [
            "('python', ['int', 'data', 'float'], 100)\n"
          ]
        }
      ]
    },
    {
      "cell_type": "code",
      "source": [
        "str1 = \"Python Prog\",\n",
        "print(str1)"
      ],
      "metadata": {
        "colab": {
          "base_uri": "https://localhost:8080/"
        },
        "id": "nWQpxEP2dcS1",
        "outputId": "12ebe4b8-60f9-48d3-b706-da50b00d5ad7"
      },
      "execution_count": 37,
      "outputs": [
        {
          "output_type": "stream",
          "name": "stdout",
          "text": [
            "('Python Prog',)\n"
          ]
        }
      ]
    },
    {
      "cell_type": "code",
      "source": [
        "Country = (\"USA\", \"China\", \"Philippine\", \"India\")\n",
        "print(Country)"
      ],
      "metadata": {
        "colab": {
          "base_uri": "https://localhost:8080/"
        },
        "id": "6YkA9O8mdfrO",
        "outputId": "308eccaa-b15b-4278-a187-1a042837a692"
      },
      "execution_count": 38,
      "outputs": [
        {
          "output_type": "stream",
          "name": "stdout",
          "text": [
            "('USA', 'China', 'Philippine', 'India')\n"
          ]
        }
      ]
    },
    {
      "cell_type": "code",
      "source": [
        "Country[2]=\"Singapore\"\n",
        "print(Country)"
      ],
      "metadata": {
        "colab": {
          "base_uri": "https://localhost:8080/",
          "height": 192
        },
        "id": "lfmjTDwYdi4x",
        "outputId": "cf69480c-737f-4e5c-d3e0-cb8e275770fc"
      },
      "execution_count": 39,
      "outputs": [
        {
          "output_type": "error",
          "ename": "TypeError",
          "evalue": "ignored",
          "traceback": [
            "\u001b[0;31m---------------------------------------------------------------------------\u001b[0m",
            "\u001b[0;31mTypeError\u001b[0m                                 Traceback (most recent call last)",
            "\u001b[0;32m<ipython-input-39-2522093a0d5f>\u001b[0m in \u001b[0;36m<cell line: 1>\u001b[0;34m()\u001b[0m\n\u001b[0;32m----> 1\u001b[0;31m \u001b[0mCountry\u001b[0m\u001b[0;34m[\u001b[0m\u001b[0;36m2\u001b[0m\u001b[0;34m]\u001b[0m\u001b[0;34m=\u001b[0m\u001b[0;34m\"Singapore\"\u001b[0m\u001b[0;34m\u001b[0m\u001b[0;34m\u001b[0m\u001b[0m\n\u001b[0m\u001b[1;32m      2\u001b[0m \u001b[0mprint\u001b[0m\u001b[0;34m(\u001b[0m\u001b[0mCountry\u001b[0m\u001b[0;34m)\u001b[0m\u001b[0;34m\u001b[0m\u001b[0;34m\u001b[0m\u001b[0m\n",
            "\u001b[0;31mTypeError\u001b[0m: 'tuple' object does not support item assignment"
          ]
        }
      ]
    },
    {
      "cell_type": "code",
      "source": [
        "del Country[1]"
      ],
      "metadata": {
        "colab": {
          "base_uri": "https://localhost:8080/",
          "height": 175
        },
        "id": "fRFre6b3dmo1",
        "outputId": "a1456cd9-33cf-4942-bb82-66f02740c382"
      },
      "execution_count": 40,
      "outputs": [
        {
          "output_type": "error",
          "ename": "TypeError",
          "evalue": "ignored",
          "traceback": [
            "\u001b[0;31m---------------------------------------------------------------------------\u001b[0m",
            "\u001b[0;31mTypeError\u001b[0m                                 Traceback (most recent call last)",
            "\u001b[0;32m<ipython-input-40-ed195761df2a>\u001b[0m in \u001b[0;36m<cell line: 1>\u001b[0;34m()\u001b[0m\n\u001b[0;32m----> 1\u001b[0;31m \u001b[0;32mdel\u001b[0m \u001b[0mCountry\u001b[0m\u001b[0;34m[\u001b[0m\u001b[0;36m1\u001b[0m\u001b[0;34m]\u001b[0m\u001b[0;34m\u001b[0m\u001b[0;34m\u001b[0m\u001b[0m\n\u001b[0m",
            "\u001b[0;31mTypeError\u001b[0m: 'tuple' object doesn't support item deletion"
          ]
        }
      ]
    },
    {
      "cell_type": "code",
      "source": [
        "Country + (\"Singapore\",\"Japan\")\n",
        "print(Country)\n",
        "Country1 = Country + (\"Singapore\",\"Japan\")\n",
        "print(Country1)"
      ],
      "metadata": {
        "colab": {
          "base_uri": "https://localhost:8080/"
        },
        "id": "1dPA5u8YeMyn",
        "outputId": "04c8c47c-405c-43c7-f9aa-c66f6780a80b"
      },
      "execution_count": 41,
      "outputs": [
        {
          "output_type": "stream",
          "name": "stdout",
          "text": [
            "('USA', 'China', 'Philippine', 'India')\n",
            "('USA', 'China', 'Philippine', 'India', 'Singapore', 'Japan')\n"
          ]
        }
      ]
    },
    {
      "cell_type": "code",
      "source": [
        "Country1.count('China')"
      ],
      "metadata": {
        "colab": {
          "base_uri": "https://localhost:8080/"
        },
        "id": "Er1WctlteZ0m",
        "outputId": "20053a3d-320b-4beb-85fd-7718c0ef419c"
      },
      "execution_count": 42,
      "outputs": [
        {
          "output_type": "execute_result",
          "data": {
            "text/plain": [
              "1"
            ]
          },
          "metadata": {},
          "execution_count": 42
        }
      ]
    },
    {
      "cell_type": "code",
      "source": [
        "ex1 = ('a','p','y','t','h','o','n','a','y')\n",
        "print(ex1.count('a'))"
      ],
      "metadata": {
        "colab": {
          "base_uri": "https://localhost:8080/"
        },
        "id": "E3-_wxYTeijW",
        "outputId": "297c4124-48a7-48c2-fe32-dd97dbd2dc95"
      },
      "execution_count": 43,
      "outputs": [
        {
          "output_type": "stream",
          "name": "stdout",
          "text": [
            "2\n"
          ]
        }
      ]
    },
    {
      "cell_type": "code",
      "source": [
        "print(ex1.index('y'))"
      ],
      "metadata": {
        "colab": {
          "base_uri": "https://localhost:8080/"
        },
        "id": "qiqc2hHgekWP",
        "outputId": "cd8b81f0-4c97-421c-f0da-1b7c53a8482c"
      },
      "execution_count": 44,
      "outputs": [
        {
          "output_type": "stream",
          "name": "stdout",
          "text": [
            "2\n"
          ]
        }
      ]
    },
    {
      "cell_type": "code",
      "source": [
        "# to check an item available in tuple or not\n",
        "print(\"Australia\" in Country1)"
      ],
      "metadata": {
        "colab": {
          "base_uri": "https://localhost:8080/"
        },
        "id": "7mI7uYbwemhW",
        "outputId": "e8cc5f08-8b46-4605-b2b5-714a12a2158e"
      },
      "execution_count": 45,
      "outputs": [
        {
          "output_type": "stream",
          "name": "stdout",
          "text": [
            "False\n"
          ]
        }
      ]
    },
    {
      "cell_type": "code",
      "source": [
        "print(\"Singapore\" in Country1)"
      ],
      "metadata": {
        "colab": {
          "base_uri": "https://localhost:8080/"
        },
        "id": "GG-K6KUFfJWP",
        "outputId": "647cd522-a474-4a33-bd87-9e1715f72756"
      },
      "execution_count": 46,
      "outputs": [
        {
          "output_type": "stream",
          "name": "stdout",
          "text": [
            "True\n"
          ]
        }
      ]
    },
    {
      "cell_type": "code",
      "source": [
        "del Country1"
      ],
      "metadata": {
        "id": "RtMyHW1pfLOf"
      },
      "execution_count": 47,
      "outputs": []
    },
    {
      "cell_type": "code",
      "source": [
        "print(Country1)"
      ],
      "metadata": {
        "colab": {
          "base_uri": "https://localhost:8080/",
          "height": 175
        },
        "id": "RBQ38xtKfdh-",
        "outputId": "3e33d1da-3957-47b5-fe76-e3811c238288"
      },
      "execution_count": 48,
      "outputs": [
        {
          "output_type": "error",
          "ename": "NameError",
          "evalue": "ignored",
          "traceback": [
            "\u001b[0;31m---------------------------------------------------------------------------\u001b[0m",
            "\u001b[0;31mNameError\u001b[0m                                 Traceback (most recent call last)",
            "\u001b[0;32m<ipython-input-48-c3311df01292>\u001b[0m in \u001b[0;36m<cell line: 1>\u001b[0;34m()\u001b[0m\n\u001b[0;32m----> 1\u001b[0;31m \u001b[0mprint\u001b[0m\u001b[0;34m(\u001b[0m\u001b[0mCountry1\u001b[0m\u001b[0;34m)\u001b[0m\u001b[0;34m\u001b[0m\u001b[0;34m\u001b[0m\u001b[0m\n\u001b[0m",
            "\u001b[0;31mNameError\u001b[0m: name 'Country1' is not defined"
          ]
        }
      ]
    },
    {
      "cell_type": "markdown",
      "source": [
        "## 3. Sets"
      ],
      "metadata": {
        "id": "qxxnID8sfiv2"
      }
    },
    {
      "cell_type": "code",
      "source": [
        "# Sets - collection of items which are not in order\n",
        "# but we cannot change the items in set but we can the add or remove\n",
        "# Elements cannot be duplicated\n",
        "# also there is no indexing or slicing\n",
        "# useig {}, Union, Intersections, difference"
      ],
      "metadata": {
        "id": "BFeVCbNmfj5G"
      },
      "execution_count": 49,
      "outputs": []
    },
    {
      "cell_type": "code",
      "source": [
        "temp = [['Mary',101,26],\n",
        "        ['Alex',102,27]]\n",
        "print(temp)"
      ],
      "metadata": {
        "colab": {
          "base_uri": "https://localhost:8080/"
        },
        "id": "Rvep4ZXYfmEu",
        "outputId": "e3a504c8-8def-4c6a-b20e-fc8031e598d5"
      },
      "execution_count": 50,
      "outputs": [
        {
          "output_type": "stream",
          "name": "stdout",
          "text": [
            "[['Mary', 101, 26], ['Alex', 102, 27]]\n"
          ]
        }
      ]
    },
    {
      "cell_type": "code",
      "source": [
        "countries = {'USA', 'China', 'Philippine', 'India', 'Singapore', 'Japan'}\n",
        "print(countries)\n",
        "print(type(countries))"
      ],
      "metadata": {
        "colab": {
          "base_uri": "https://localhost:8080/"
        },
        "id": "15mQPjuufn9f",
        "outputId": "cd436b9f-69b7-4aa1-d4ce-77a4b6c4787e"
      },
      "execution_count": 51,
      "outputs": [
        {
          "output_type": "stream",
          "name": "stdout",
          "text": [
            "{'China', 'Singapore', 'Japan', 'USA', 'Philippine', 'India'}\n",
            "<class 'set'>\n"
          ]
        }
      ]
    },
    {
      "cell_type": "code",
      "source": [
        "print(len(countries))"
      ],
      "metadata": {
        "colab": {
          "base_uri": "https://localhost:8080/"
        },
        "id": "zFS69md9fqbG",
        "outputId": "4658d0d4-2439-4cfd-bf5e-05784e37b2fb"
      },
      "execution_count": 52,
      "outputs": [
        {
          "output_type": "stream",
          "name": "stdout",
          "text": [
            "6\n"
          ]
        }
      ]
    },
    {
      "cell_type": "code",
      "source": [
        "# adding an element\n",
        "countries.add(\"Germany\")\n",
        "print(countries)"
      ],
      "metadata": {
        "colab": {
          "base_uri": "https://localhost:8080/"
        },
        "id": "7c8lDKJpfsQe",
        "outputId": "3c422c86-a8a0-4a35-b3f6-a45a3874961a"
      },
      "execution_count": 53,
      "outputs": [
        {
          "output_type": "stream",
          "name": "stdout",
          "text": [
            "{'China', 'Singapore', 'Japan', 'USA', 'Philippine', 'India', 'Germany'}\n"
          ]
        }
      ]
    },
    {
      "cell_type": "code",
      "source": [
        "#deleting the element\n",
        "countries.discard(\"Germany\")\n",
        "print(countries)"
      ],
      "metadata": {
        "colab": {
          "base_uri": "https://localhost:8080/"
        },
        "id": "aUEf7A5Kfubd",
        "outputId": "8e8d9e42-45ae-406a-803a-506747c6d7d9"
      },
      "execution_count": 54,
      "outputs": [
        {
          "output_type": "stream",
          "name": "stdout",
          "text": [
            "{'China', 'Singapore', 'Japan', 'USA', 'Philippine', 'India'}\n"
          ]
        }
      ]
    },
    {
      "cell_type": "code",
      "source": [
        "# Other Sets Operations\n",
        "country_1 = {'USA', 'China', 'India', 'Japan', 'Singapore', 'Philippine'}\n",
        "country_2 = {\"India\",'Singapore','Germany','Indonesia'}\n",
        "Setof_Country= country_1.union(country_2)\n",
        "print(Setof_Country)"
      ],
      "metadata": {
        "colab": {
          "base_uri": "https://localhost:8080/"
        },
        "id": "9eqRVOaSf0AQ",
        "outputId": "55613c85-d6a4-4db8-c276-34178d8aa6f3"
      },
      "execution_count": 55,
      "outputs": [
        {
          "output_type": "stream",
          "name": "stdout",
          "text": [
            "{'China', 'USA', 'Philippine', 'Singapore', 'Japan', 'India', 'Germany', 'Indonesia'}\n"
          ]
        }
      ]
    },
    {
      "cell_type": "code",
      "source": [
        "print(country_1 | country_2)"
      ],
      "metadata": {
        "colab": {
          "base_uri": "https://localhost:8080/"
        },
        "id": "5o_evNlFf4XP",
        "outputId": "2ddaa499-a3ed-40da-9ad3-45f017215770"
      },
      "execution_count": 56,
      "outputs": [
        {
          "output_type": "stream",
          "name": "stdout",
          "text": [
            "{'China', 'USA', 'Philippine', 'Singapore', 'Japan', 'India', 'Germany', 'Indonesia'}\n"
          ]
        }
      ]
    },
    {
      "cell_type": "code",
      "source": [
        "# intersection\n",
        "print(country_1.intersection(country_2))"
      ],
      "metadata": {
        "colab": {
          "base_uri": "https://localhost:8080/"
        },
        "id": "WScZh-Hbf8aX",
        "outputId": "a2a3e34e-8766-4c6c-a0a7-4f6380795e02"
      },
      "execution_count": 57,
      "outputs": [
        {
          "output_type": "stream",
          "name": "stdout",
          "text": [
            "{'India', 'Singapore'}\n"
          ]
        }
      ]
    },
    {
      "cell_type": "code",
      "source": [
        "print(country_1 & country_2)"
      ],
      "metadata": {
        "colab": {
          "base_uri": "https://localhost:8080/"
        },
        "id": "L8eEJg1Hf9jm",
        "outputId": "fda8d640-47bc-4646-89c4-16845d1fb5cb"
      },
      "execution_count": 58,
      "outputs": [
        {
          "output_type": "stream",
          "name": "stdout",
          "text": [
            "{'India', 'Singapore'}\n"
          ]
        }
      ]
    },
    {
      "cell_type": "code",
      "source": [
        "print(country_2.difference(country_1))\n",
        "print(country_1.difference(country_2))"
      ],
      "metadata": {
        "colab": {
          "base_uri": "https://localhost:8080/"
        },
        "id": "OMIla6abgANm",
        "outputId": "419f48f2-483f-4a33-82eb-1c81dbdd71e1"
      },
      "execution_count": 59,
      "outputs": [
        {
          "output_type": "stream",
          "name": "stdout",
          "text": [
            "{'Germany', 'Indonesia'}\n",
            "{'Philippine', 'China', 'Japan', 'USA'}\n"
          ]
        }
      ]
    },
    {
      "cell_type": "code",
      "source": [
        "set_ex = {11,22,67,54}\n",
        "output_set = 78 in set_ex\n",
        "print(output_set)"
      ],
      "metadata": {
        "colab": {
          "base_uri": "https://localhost:8080/"
        },
        "id": "ykmrS1dUgHY4",
        "outputId": "55d5fee4-1f3b-471b-fc69-f69028d3b1dc"
      },
      "execution_count": 60,
      "outputs": [
        {
          "output_type": "stream",
          "name": "stdout",
          "text": [
            "False\n"
          ]
        }
      ]
    },
    {
      "cell_type": "code",
      "source": [
        "output_set = 78 not in set_ex\n",
        "print(output_set)"
      ],
      "metadata": {
        "colab": {
          "base_uri": "https://localhost:8080/"
        },
        "id": "cxVMTqB5gKgV",
        "outputId": "c5c16856-a0c9-48ad-b7ee-fb8aff15017c"
      },
      "execution_count": 61,
      "outputs": [
        {
          "output_type": "stream",
          "name": "stdout",
          "text": [
            "True\n"
          ]
        }
      ]
    },
    {
      "cell_type": "code",
      "source": [
        "# Upfating the set\n",
        "country_2 = {\"India\",'Singapore','Germany','Indonesia'}\n",
        "update_set = {'Africa','Malaysia','India'}\n",
        "country_2.update(update_set)\n",
        "print(country_2)"
      ],
      "metadata": {
        "colab": {
          "base_uri": "https://localhost:8080/"
        },
        "id": "XsyC95r0gKmZ",
        "outputId": "84ed004e-3900-45f6-eebb-2e0e8c227609"
      },
      "execution_count": 62,
      "outputs": [
        {
          "output_type": "stream",
          "name": "stdout",
          "text": [
            "{'Singapore', 'Malaysia', 'Africa', 'India', 'Germany', 'Indonesia'}\n"
          ]
        }
      ]
    },
    {
      "cell_type": "code",
      "source": [
        "country_2.clear()\n",
        "print(country_2)"
      ],
      "metadata": {
        "colab": {
          "base_uri": "https://localhost:8080/"
        },
        "id": "ay0C7m25gRyu",
        "outputId": "13503582-3030-4302-e8ac-554f7bb5d045"
      },
      "execution_count": 63,
      "outputs": [
        {
          "output_type": "stream",
          "name": "stdout",
          "text": [
            "set()\n"
          ]
        }
      ]
    },
    {
      "cell_type": "markdown",
      "source": [
        "## 4) Dictionary"
      ],
      "metadata": {
        "id": "hIagAXZngUDo"
      }
    },
    {
      "cell_type": "code",
      "source": [
        "# Dictionary - collection of elements, keys and values pair, key and value are separated by :.\n",
        "# it is mutable and unordered,\n",
        "# if we want to access the elements then we use key"
      ],
      "metadata": {
        "id": "0wa7s2H4gWYf"
      },
      "execution_count": 64,
      "outputs": []
    },
    {
      "cell_type": "code",
      "source": [
        "emp_dict = {'Name':'john','age':25,'Dept':'sales'}\n",
        "print(emp_dict)"
      ],
      "metadata": {
        "colab": {
          "base_uri": "https://localhost:8080/"
        },
        "id": "H6VfmBjagZk3",
        "outputId": "014d70ab-4cf6-46e8-a852-fd75b508ec10"
      },
      "execution_count": 65,
      "outputs": [
        {
          "output_type": "stream",
          "name": "stdout",
          "text": [
            "{'Name': 'john', 'age': 25, 'Dept': 'sales'}\n"
          ]
        }
      ]
    },
    {
      "cell_type": "code",
      "source": [
        "print(emp_dict['Name'])"
      ],
      "metadata": {
        "colab": {
          "base_uri": "https://localhost:8080/"
        },
        "id": "7lskt5U2gcZ-",
        "outputId": "0006b476-d69a-451c-c7f9-3b2576c0357e"
      },
      "execution_count": 66,
      "outputs": [
        {
          "output_type": "stream",
          "name": "stdout",
          "text": [
            "john\n"
          ]
        }
      ]
    },
    {
      "cell_type": "code",
      "source": [
        "emp_dict['age']=29\n",
        "print(emp_dict['age'])"
      ],
      "metadata": {
        "colab": {
          "base_uri": "https://localhost:8080/"
        },
        "id": "hJiAB4h2geu2",
        "outputId": "4b4fefd5-39a9-4c0d-aca6-b13373bebe38"
      },
      "execution_count": 67,
      "outputs": [
        {
          "output_type": "stream",
          "name": "stdout",
          "text": [
            "29\n"
          ]
        }
      ]
    },
    {
      "cell_type": "code",
      "source": [
        "print(len(emp_dict))"
      ],
      "metadata": {
        "colab": {
          "base_uri": "https://localhost:8080/"
        },
        "id": "h52p5dsdggsg",
        "outputId": "9f5e1515-85ce-4271-b78d-118d85bcaccc"
      },
      "execution_count": 68,
      "outputs": [
        {
          "output_type": "stream",
          "name": "stdout",
          "text": [
            "3\n"
          ]
        }
      ]
    },
    {
      "cell_type": "code",
      "source": [
        "key = emp_dict.keys()\n",
        "print(key)"
      ],
      "metadata": {
        "colab": {
          "base_uri": "https://localhost:8080/"
        },
        "id": "bgWb3bOhgh1K",
        "outputId": "1c8fe254-df98-499d-c40e-dd809f380c47"
      },
      "execution_count": 69,
      "outputs": [
        {
          "output_type": "stream",
          "name": "stdout",
          "text": [
            "dict_keys(['Name', 'age', 'Dept'])\n"
          ]
        }
      ]
    },
    {
      "cell_type": "code",
      "source": [
        "emp_dict"
      ],
      "metadata": {
        "colab": {
          "base_uri": "https://localhost:8080/"
        },
        "id": "wCdkjssTgjxm",
        "outputId": "1b8933cb-5f6c-4584-c282-7949cbf1b6ec"
      },
      "execution_count": 70,
      "outputs": [
        {
          "output_type": "execute_result",
          "data": {
            "text/plain": [
              "{'Name': 'john', 'age': 29, 'Dept': 'sales'}"
            ]
          },
          "metadata": {},
          "execution_count": 70
        }
      ]
    },
    {
      "cell_type": "code",
      "source": [
        "emp_dict = {'Name':'john','age':25,'Dept':'sales','Dept': 'HR'}\n",
        "print(emp_dict)"
      ],
      "metadata": {
        "colab": {
          "base_uri": "https://localhost:8080/"
        },
        "id": "WFCTrAZXgnoI",
        "outputId": "6946319c-d695-4080-b8e9-32824986bc2f"
      },
      "execution_count": 71,
      "outputs": [
        {
          "output_type": "stream",
          "name": "stdout",
          "text": [
            "{'Name': 'john', 'age': 25, 'Dept': 'HR'}\n"
          ]
        }
      ]
    },
    {
      "cell_type": "code",
      "source": [
        "print(type(emp_dict))"
      ],
      "metadata": {
        "colab": {
          "base_uri": "https://localhost:8080/"
        },
        "id": "lzmp8-4Igqqv",
        "outputId": "a18e302a-33ab-4b4b-986b-744318de0c6d"
      },
      "execution_count": 72,
      "outputs": [
        {
          "output_type": "stream",
          "name": "stdout",
          "text": [
            "<class 'dict'>\n"
          ]
        }
      ]
    },
    {
      "cell_type": "code",
      "source": [
        "emp = dict(name='Mary',age=25,id=101)\n",
        "print(emp)"
      ],
      "metadata": {
        "colab": {
          "base_uri": "https://localhost:8080/"
        },
        "id": "R0U9BzCggsJ-",
        "outputId": "cfaca58b-48d2-4a84-d7fd-b7685c74d5ab"
      },
      "execution_count": 73,
      "outputs": [
        {
          "output_type": "stream",
          "name": "stdout",
          "text": [
            "{'name': 'Mary', 'age': 25, 'id': 101}\n"
          ]
        }
      ]
    },
    {
      "cell_type": "code",
      "source": [
        "v = emp.values()\n",
        "print(v)\n",
        "print(emp.items())\n",
        "print()"
      ],
      "metadata": {
        "colab": {
          "base_uri": "https://localhost:8080/"
        },
        "id": "Re2QS5idguPQ",
        "outputId": "d853ac60-aeb1-40fe-b302-95d43b9e5502"
      },
      "execution_count": 74,
      "outputs": [
        {
          "output_type": "stream",
          "name": "stdout",
          "text": [
            "dict_values(['Mary', 25, 101])\n",
            "dict_items([('name', 'Mary'), ('age', 25), ('id', 101)])\n",
            "\n"
          ]
        }
      ]
    },
    {
      "cell_type": "code",
      "source": [
        "# Nested Dictionary\n",
        "\n",
        "Company = {'emp1':{'name':'Daniel','year':2018},\n",
        "           'emp2':{'name':'Jimmy','year':2020},\n",
        "           'emp3':{'name':'John','year':2022}}\n",
        "print(Company)"
      ],
      "metadata": {
        "colab": {
          "base_uri": "https://localhost:8080/"
        },
        "id": "Junm4UAig-BO",
        "outputId": "08d4584a-a1a3-473b-d299-b3addc13f672"
      },
      "execution_count": 75,
      "outputs": [
        {
          "output_type": "stream",
          "name": "stdout",
          "text": [
            "{'emp1': {'name': 'Daniel', 'year': 2018}, 'emp2': {'name': 'Jimmy', 'year': 2020}, 'emp3': {'name': 'John', 'year': 2022}}\n"
          ]
        }
      ]
    },
    {
      "cell_type": "code",
      "source": [
        "del emp['age']\n",
        "print(emp)"
      ],
      "metadata": {
        "colab": {
          "base_uri": "https://localhost:8080/"
        },
        "id": "ySEKMDtehAhX",
        "outputId": "8cef2c41-726e-440d-d954-92bd22d515cf"
      },
      "execution_count": 76,
      "outputs": [
        {
          "output_type": "stream",
          "name": "stdout",
          "text": [
            "{'name': 'Mary', 'id': 101}\n"
          ]
        }
      ]
    },
    {
      "cell_type": "code",
      "source": [
        "print(emp.pop('id'))"
      ],
      "metadata": {
        "colab": {
          "base_uri": "https://localhost:8080/"
        },
        "id": "vzlEBfYjhDcP",
        "outputId": "045affc6-e977-44cc-ce99-db8050b3e3f1"
      },
      "execution_count": 77,
      "outputs": [
        {
          "output_type": "stream",
          "name": "stdout",
          "text": [
            "101\n"
          ]
        }
      ]
    },
    {
      "cell_type": "code",
      "source": [
        "emp.clear()"
      ],
      "metadata": {
        "id": "rSiEREM1hFan"
      },
      "execution_count": 79,
      "outputs": []
    },
    {
      "cell_type": "code",
      "source": [
        "del emp\n",
        "print(emp)"
      ],
      "metadata": {
        "colab": {
          "base_uri": "https://localhost:8080/",
          "height": 192
        },
        "id": "8J-kiKDfhHAX",
        "outputId": "79427aee-7eb9-4dd6-ff6b-d7b1fb565c35"
      },
      "execution_count": 80,
      "outputs": [
        {
          "output_type": "error",
          "ename": "NameError",
          "evalue": "ignored",
          "traceback": [
            "\u001b[0;31m---------------------------------------------------------------------------\u001b[0m",
            "\u001b[0;31mNameError\u001b[0m                                 Traceback (most recent call last)",
            "\u001b[0;32m<ipython-input-80-4d1b571b629d>\u001b[0m in \u001b[0;36m<cell line: 2>\u001b[0;34m()\u001b[0m\n\u001b[1;32m      1\u001b[0m \u001b[0;32mdel\u001b[0m \u001b[0memp\u001b[0m\u001b[0;34m\u001b[0m\u001b[0;34m\u001b[0m\u001b[0m\n\u001b[0;32m----> 2\u001b[0;31m \u001b[0mprint\u001b[0m\u001b[0;34m(\u001b[0m\u001b[0memp\u001b[0m\u001b[0;34m)\u001b[0m\u001b[0;34m\u001b[0m\u001b[0;34m\u001b[0m\u001b[0m\n\u001b[0m",
            "\u001b[0;31mNameError\u001b[0m: name 'emp' is not defined"
          ]
        }
      ]
    },
    {
      "cell_type": "code",
      "source": [
        "empName = Company['emp1']['name']\n",
        "print(empName)"
      ],
      "metadata": {
        "colab": {
          "base_uri": "https://localhost:8080/"
        },
        "id": "i11V5gGjhJnA",
        "outputId": "98f664fa-c2e5-434d-f2f5-606738a0f427"
      },
      "execution_count": 81,
      "outputs": [
        {
          "output_type": "stream",
          "name": "stdout",
          "text": [
            "Daniel\n"
          ]
        }
      ]
    }
  ]
}